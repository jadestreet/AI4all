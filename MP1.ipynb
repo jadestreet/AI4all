{
 "cells": [
  {
   "cell_type": "code",
   "execution_count": 1,
   "metadata": {},
   "outputs": [],
   "source": [
    "import cv2\n",
    "import numpy as np\n",
    "from matplotlib.colors import LogNorm\n",
    "from scipy import signal\n",
    "import utils\n",
    "%matplotlib notebook\n",
    "import matplotlib\n",
    "matplotlib.use('Qt5Agg')\n",
    "from matplotlib import pyplot as plt\n",
    "from IPython.display import Image\n",
    "from IPython.display import display"
   ]
  },
  {
   "cell_type": "markdown",
   "metadata": {},
   "source": [
    "# Part1 hybrid image"
   ]
  },
  {
   "cell_type": "markdown",
   "metadata": {},
   "source": [
    "#### read image"
   ]
  },
  {
   "cell_type": "code",
   "execution_count": 20,
   "metadata": {},
   "outputs": [],
   "source": [
    "im1_file = './img1_lala.jpg'\n",
    "im2_file = './2Women.jpg'\n",
    "\n",
    "'''\n",
    "im2_file = './rat.jpg'\n",
    "im1_file = './cat2.jpg'\n",
    "'''\n",
    "'''\n",
    "im1_file = './3cat.jpg'\n",
    "im2_file = './3dog.jpg'\n",
    "'''\n",
    "im1_BGR = cv2.imread(im1_file)\n",
    "im2_BGR = cv2.imread(im2_file)\n",
    "im1_RGB = cv2.cvtColor(im1_BGR, cv2.COLOR_BGR2RGB)\n",
    "im2_RGB = cv2.cvtColor(im2_BGR, cv2.COLOR_BGR2RGB)\n",
    "im1 = cv2.cvtColor(im1_BGR, cv2.COLOR_BGR2GRAY)\n",
    "im2 = cv2.cvtColor(im2_BGR, cv2.COLOR_BGR2GRAY)"
   ]
  },
  {
   "cell_type": "markdown",
   "metadata": {},
   "source": [
    "#### plot fft function"
   ]
  },
  {
   "cell_type": "code",
   "execution_count": 21,
   "metadata": {},
   "outputs": [],
   "source": [
    "def fft_image(img):\n",
    "    fftmag = np.abs(np.fft.fftshift(np.fft.fft2(img)))\n",
    "    plt.imshow(fftmag,norm=LogNorm(fftmag.min(),fftmag.max()),cmap='jet')"
   ]
  },
  {
   "cell_type": "markdown",
   "metadata": {},
   "source": [
    "#### fft of input image"
   ]
  },
  {
   "cell_type": "code",
   "execution_count": 4,
   "metadata": {},
   "outputs": [],
   "source": [
    "fig=plt.figure(figsize=(10, 10))\n",
    "columns = 2\n",
    "rows = 1\n",
    "fig.add_subplot(rows, columns, 1)\n",
    "fft_image(im1)\n",
    "plt.title(\"cat\")\n",
    "fig.add_subplot(rows, columns, 2)\n",
    "fft_image(im2)\n",
    "plt.title(\"dog\")\n",
    "plt.show(block=True)"
   ]
  },
  {
   "cell_type": "markdown",
   "metadata": {},
   "source": [
    "#### align image"
   ]
  },
  {
   "cell_type": "code",
   "execution_count": 22,
   "metadata": {},
   "outputs": [],
   "source": [
    "pts_im1 = utils.prompt_eye_selection(im1)\n",
    "plt.show(block=True)"
   ]
  },
  {
   "cell_type": "code",
   "execution_count": 23,
   "metadata": {},
   "outputs": [],
   "source": [
    "pts_im2 = utils.prompt_eye_selection(im2)\n",
    "plt.show(block=True)"
   ]
  },
  {
   "cell_type": "code",
   "execution_count": 24,
   "metadata": {},
   "outputs": [],
   "source": [
    "im1, im2 = utils.align_images(im1_file, im2_file,pts_im1,pts_im2,save_images=False)"
   ]
  },
  {
   "cell_type": "code",
   "execution_count": 25,
   "metadata": {},
   "outputs": [],
   "source": [
    "im1_RGB = cv2.cvtColor(im1, cv2.COLOR_BGR2RGB)\n",
    "im2_RGB = cv2.cvtColor(im2, cv2.COLOR_BGR2RGB)"
   ]
  },
  {
   "cell_type": "markdown",
   "metadata": {},
   "source": [
    "#### high and low pass filter function"
   ]
  },
  {
   "cell_type": "code",
   "execution_count": 26,
   "metadata": {},
   "outputs": [],
   "source": [
    "def high_pass(img, dim, high_pass_fre):\n",
    "    img_res = np.zeros(shape=img.shape, dtype=np.uint8)\n",
    "    img_res[:,:,dim] = img[:,:,dim]\n",
    "    \n",
    "    img_res = img_res - cv2.GaussianBlur(img_res,(3*high_pass_fre,3*high_pass_fre), cv2.BORDER_DEFAULT)\n",
    "    return img_res\n",
    "\n",
    "def low_pass(img, low_pass_fre):\n",
    "    img_res = img\n",
    "    \n",
    "    ksize = np.int(np.ceil(low_pass_fre)*3+1)\n",
    "    fil = cv2.getGaussianKernel(ksize, low_pass_fre) # 1D kernel\n",
    "    fil = fil*np.transpose(fil) # 2D kernel by outer product\n",
    "    \n",
    "    img_res = cv2.filter2D(img_res, -1, fil)\n",
    "    return img_res"
   ]
  },
  {
   "cell_type": "markdown",
   "metadata": {},
   "source": [
    "#### hybrid the image"
   ]
  },
  {
   "cell_type": "code",
   "execution_count": 27,
   "metadata": {},
   "outputs": [
    {
     "name": "stderr",
     "output_type": "stream",
     "text": [
      "C:\\Users\\Public\\Documents\\Wondershare\\CreatorTemp\\ipykernel_20444\\3041769544.py:11: DeprecationWarning: `np.int` is a deprecated alias for the builtin `int`. To silence this warning, use `int` by itself. Doing this will not modify any behavior and is safe. When replacing `np.int`, you may wish to use e.g. `np.int64` or `np.int32` to specify the precision. If you wish to review your current use, check the release note link for additional information.\n",
      "Deprecated in NumPy 1.20; for more details and guidance: https://numpy.org/devdocs/release/1.20.0-notes.html#deprecations\n",
      "  ksize = np.int(np.ceil(low_pass_fre)*3+1)\n"
     ]
    }
   ],
   "source": [
    "high_pass_fre = 23\n",
    "low_pass_fre = 7\n",
    "# 23 7; 15 5\n",
    "img2_grey = low_pass(im2, low_pass_fre)\n",
    "img2 = cv2.cvtColor(img2_grey, cv2.COLOR_BGR2RGB)\n",
    "\n",
    "img = np.zeros(shape=im1_RGB.shape, dtype=np.uint8)\n",
    "img1 = np.zeros(shape=im1_RGB.shape, dtype=np.uint8)\n",
    "\n",
    "for j in range(3):\n",
    "    c_high = high_pass(im1_RGB, j, high_pass_fre)\n",
    "    img1 += c_high\n",
    "\n",
    "\n",
    "img = img1 + img2\n",
    "\n",
    "plt.imshow(img)\n",
    "plt.show(block=True)"
   ]
  },
  {
   "cell_type": "markdown",
   "metadata": {},
   "source": [
    "#### BW1 color hybrid"
   ]
  },
  {
   "cell_type": "code",
   "execution_count": 30,
   "metadata": {},
   "outputs": [],
   "source": [
    "img2_grey = cv2.cvtColor(img2_grey, cv2.COLOR_BGR2GRAY)"
   ]
  },
  {
   "cell_type": "code",
   "execution_count": 31,
   "metadata": {},
   "outputs": [],
   "source": [
    "img1_grey = cv2.cvtColor(img1, cv2.COLOR_RGB2GRAY)"
   ]
  },
  {
   "cell_type": "code",
   "execution_count": 31,
   "metadata": {},
   "outputs": [],
   "source": [
    "im_grays = img1_grey + img2_grey"
   ]
  },
  {
   "cell_type": "code",
   "execution_count": 32,
   "metadata": {},
   "outputs": [],
   "source": [
    "img_gray = cv2.cvtColor(img, cv2.COLOR_RGB2GRAY)"
   ]
  },
  {
   "cell_type": "code",
   "execution_count": 33,
   "metadata": {},
   "outputs": [],
   "source": [
    "for j in range(3):\n",
    "    im_1col2gray = img1[...,j] + img2_grey\n",
    "    im_1gray2col = img1_grey + img2[...,j]\n",
    "    "
   ]
  },
  {
   "cell_type": "code",
   "execution_count": 34,
   "metadata": {},
   "outputs": [],
   "source": [
    "plt.title(\"1col2gray\")\n",
    "plt.imshow(im_1col2gray)\n",
    "plt.show(block=True)"
   ]
  },
  {
   "cell_type": "code",
   "execution_count": 69,
   "metadata": {},
   "outputs": [],
   "source": [
    "plt.title(\"1gray2col\")\n",
    "plt.imshow(im_1gray2col, cmap='gray')\n",
    "plt.show(block=True)"
   ]
  },
  {
   "cell_type": "code",
   "execution_count": 70,
   "metadata": {},
   "outputs": [],
   "source": [
    "plt.title(\"both gray\")\n",
    "plt.imshow(im_grays, cmap='gray')\n",
    "plt.show(block=True)"
   ]
  },
  {
   "cell_type": "code",
   "execution_count": 71,
   "metadata": {},
   "outputs": [],
   "source": [
    "plt.title(\"both color\")\n",
    "plt.imshow(img_gray, cmap='gray')\n",
    "plt.show(block=True)"
   ]
  },
  {
   "cell_type": "markdown",
   "metadata": {},
   "source": [
    "#### plot frequency of filtered input image "
   ]
  },
  {
   "cell_type": "code",
   "execution_count": 32,
   "metadata": {},
   "outputs": [],
   "source": [
    "img1_grey = cv2.cvtColor(img1, cv2.COLOR_RGB2GRAY)\n",
    "img2_grey = cv2.cvtColor(img2, cv2.COLOR_RGB2GRAY)"
   ]
  },
  {
   "cell_type": "code",
   "execution_count": 33,
   "metadata": {},
   "outputs": [],
   "source": [
    "fft_image(img1_grey)\n",
    "plt.show(block=True)"
   ]
  },
  {
   "cell_type": "code",
   "execution_count": 34,
   "metadata": {},
   "outputs": [],
   "source": [
    "\n",
    "fft_image(img2_grey)\n",
    "plt.show(block=True)\n"
   ]
  },
  {
   "cell_type": "markdown",
   "metadata": {},
   "source": [
    "#### plot filtered input image "
   ]
  },
  {
   "cell_type": "code",
   "execution_count": 35,
   "metadata": {},
   "outputs": [],
   "source": [
    "plt.imshow(img1)\n",
    "plt.show(block=True)"
   ]
  },
  {
   "cell_type": "code",
   "execution_count": 37,
   "metadata": {},
   "outputs": [],
   "source": [
    "plt.imshow(img2)\n",
    "plt.show(block=True)"
   ]
  },
  {
   "cell_type": "markdown",
   "metadata": {},
   "source": [
    "#### plot fft hybrid image "
   ]
  },
  {
   "cell_type": "code",
   "execution_count": 200,
   "metadata": {},
   "outputs": [
    {
     "name": "stderr",
     "output_type": "stream",
     "text": [
      "Clipping input data to the valid range for imshow with RGB data ([0..1] for floats or [0..255] for integers).\n"
     ]
    }
   ],
   "source": [
    "fft_image(img)\n",
    "plt.show(block=True)"
   ]
  },
  {
   "cell_type": "markdown",
   "metadata": {},
   "source": [
    "#### BW3 image pyramids"
   ]
  },
  {
   "cell_type": "code",
   "execution_count": 39,
   "metadata": {},
   "outputs": [],
   "source": [
    "lower = img.copy()\n",
    " \n",
    "# Implement a Gaussian Pyramid\n",
    "gaussian_pyr = [lower]\n",
    "for i in range(4):\n",
    "    lower = cv2.pyrDown(lower)\n",
    "    gaussian_pyr.append(lower)\n",
    " \n",
    "#from last to first\n",
    "laplacian_top = gaussian_pyr[-1]\n",
    " \n",
    "# Implement Laplacian Pyramid\n",
    "laplacian_pyr = [laplacian_top]\n",
    "for i in range(4,0,-1):\n",
    "    size = (gaussian_pyr[i - 1].shape[1], gaussian_pyr[i - 1].shape[0])\n",
    "    gaussian_expanded = cv2.pyrUp(gaussian_pyr[i], dstsize=size)\n",
    "    laplacian = cv2.subtract(gaussian_pyr[i-1], gaussian_expanded)\n",
    "    laplacian_pyr.append(laplacian)"
   ]
  },
  {
   "cell_type": "code",
   "execution_count": 51,
   "metadata": {},
   "outputs": [],
   "source": [
    "fig=plt.figure(figsize=(15, 15))\n",
    "columns = 5\n",
    "rows = 1\n",
    "fig.add_subplot(rows, columns, 1)\n",
    "plt.title(\"origin\")\n",
    "plt.imshow(gaussian_pyr[0])\n",
    "fig.add_subplot(rows, columns, 2)\n",
    "plt.imshow(gaussian_pyr[1])\n",
    "plt.title(\"sub1\")\n",
    "fig.add_subplot(rows, columns, 3)\n",
    "plt.imshow(gaussian_pyr[2])\n",
    "plt.title(\"sub2\")\n",
    "fig.add_subplot(rows, columns, 4)\n",
    "plt.imshow(gaussian_pyr[3])\n",
    "plt.title(\"sub3\")\n",
    "fig.add_subplot(rows, columns, 5)\n",
    "plt.imshow(gaussian_pyr[4])\n",
    "plt.title(\"sub4\")\n",
    "plt.show(block=True)"
   ]
  },
  {
   "cell_type": "code",
   "execution_count": 52,
   "metadata": {},
   "outputs": [],
   "source": [
    "fig=plt.figure(figsize=(15, 15))\n",
    "columns = 5\n",
    "rows = 1\n",
    "fig.add_subplot(rows, columns, 1)\n",
    "plt.title(\"origin\")\n",
    "plt.imshow(laplacian_pyr[4])\n",
    "fig.add_subplot(rows, columns, 2)\n",
    "plt.imshow(laplacian_pyr[3])\n",
    "plt.title(\"sub1\")\n",
    "fig.add_subplot(rows, columns, 3)\n",
    "plt.imshow(laplacian_pyr[2])\n",
    "plt.title(\"sub2\")\n",
    "fig.add_subplot(rows, columns, 4)\n",
    "plt.imshow(laplacian_pyr[1])\n",
    "plt.title(\"sub3\")\n",
    "fig.add_subplot(rows, columns, 5)\n",
    "plt.imshow(laplacian_pyr[0])\n",
    "plt.title(\"sub4\")\n",
    "plt.show(block=True)"
   ]
  },
  {
   "cell_type": "markdown",
   "metadata": {},
   "source": [
    "# Part2"
   ]
  },
  {
   "cell_type": "markdown",
   "metadata": {},
   "source": [
    "## Contrast Enhancement"
   ]
  },
  {
   "cell_type": "code",
   "execution_count": 3,
   "metadata": {},
   "outputs": [],
   "source": [
    "from skimage import exposure"
   ]
  },
  {
   "cell_type": "code",
   "execution_count": 4,
   "metadata": {},
   "outputs": [],
   "source": [
    "im_file = './poor_contrast.jpg'\n",
    "\n",
    "im_BGR = cv2.imread(im_file)\n",
    "im_RGB = cv2.cvtColor(im_BGR,cv2.COLOR_BGR2RGB)\n",
    "plt.imshow(im_RGB)\n",
    "plt.show(block=True)"
   ]
  },
  {
   "cell_type": "code",
   "execution_count": 5,
   "metadata": {},
   "outputs": [],
   "source": [
    "def apply_CLAHE_channel(img, dim):\n",
    "    channel = np.zeros(shape=img.shape, dtype=np.uint8)\n",
    "    clahe = cv2.createCLAHE(clipLimit=3.0, tileGridSize=(12,12))\n",
    "    channel[:,:,dim] = clahe.apply(img[:,:,dim])\n",
    "    img[:,:,dim] = channel[:,:,dim]"
   ]
  },
  {
   "cell_type": "code",
   "execution_count": 6,
   "metadata": {},
   "outputs": [],
   "source": [
    "im_HSV = cv2.cvtColor(im_RGB, cv2.COLOR_RGB2HSV)\n",
    "apply_CLAHE_channel(im_HSV, 2)\n",
    "plt.imshow(cv2.cvtColor(im_HSV, cv2.COLOR_HSV2RGB))\n",
    "plt.show(block=True)"
   ]
  },
  {
   "cell_type": "markdown",
   "metadata": {},
   "source": [
    "## Color enhancement"
   ]
  },
  {
   "cell_type": "code",
   "execution_count": 12,
   "metadata": {},
   "outputs": [],
   "source": [
    "im1_file = './poor_contrast.jpg'\n",
    "im1 = cv2.imread(im1_file)\n",
    "im1_orig = cv2.cvtColor(im1,cv2.COLOR_BGR2RGB)\n",
    "\n",
    "hsv = cv2.cvtColor(im1,cv2.COLOR_BGR2HSV)\n",
    "h, s, v = cv2.split(hsv)\n",
    "'''\n",
    "value = 50\n",
    "lim = 255 - value\n",
    "v[v > lim] = 255\n",
    "v[v <= lim] += value\n",
    "\n",
    "'''\n",
    "s_brighter = exposure.adjust_gamma(s, 0.5)\n",
    "final_hsv = cv2.merge((h, s_brighter, v))\n",
    "im1_out = cv2.cvtColor(final_hsv,cv2.COLOR_HSV2RGB)\n",
    "plt.figure()\n",
    "plt.imshow(im1_out)\n",
    "plt.show(block = True)"
   ]
  },
  {
   "cell_type": "markdown",
   "metadata": {},
   "source": [
    "## Color Shift BW2"
   ]
  },
  {
   "cell_type": "code",
   "execution_count": 106,
   "metadata": {},
   "outputs": [],
   "source": [
    "im_file_cs = './img1_lala.jpg'\n",
    "im_cs = cv2.imread(im_file_cs)\n",
    "im_cs_LAB = cv2.cvtColor(im_cs, cv2.COLOR_BGR2Lab)\n",
    "l, a, b = cv2.split(im_cs_LAB)"
   ]
  },
  {
   "cell_type": "code",
   "execution_count": 110,
   "metadata": {},
   "outputs": [],
   "source": [
    "#more red\n",
    "a_more_red = exposure.adjust_gamma(a, 0.8)\n",
    "b_less_yellow = exposure.adjust_gamma(b, 1.2)\n",
    "im_cs_red = cv2.merge((l, a_more_red, b))\n",
    "im_cs_yellow = cv2.merge((l, a, b_less_yellow))"
   ]
  },
  {
   "cell_type": "code",
   "execution_count": 111,
   "metadata": {},
   "outputs": [],
   "source": [
    "im_cs_red = cv2.cvtColor(im_cs_red, cv2.COLOR_Lab2RGB)\n",
    "im_cs_yellow = cv2.cvtColor(im_cs_yellow, cv2.COLOR_Lab2RGB)"
   ]
  },
  {
   "cell_type": "code",
   "execution_count": 112,
   "metadata": {},
   "outputs": [],
   "source": [
    "plt.imshow(im_cs_red)\n",
    "plt.show(block=True)"
   ]
  },
  {
   "cell_type": "code",
   "execution_count": 113,
   "metadata": {},
   "outputs": [],
   "source": [
    "plt.imshow(im_cs_yellow)\n",
    "plt.show(block=True)"
   ]
  },
  {
   "cell_type": "code",
   "execution_count": null,
   "metadata": {},
   "outputs": [],
   "source": []
  }
 ],
 "metadata": {
  "kernelspec": {
   "display_name": "Python 3.9.13 ('base')",
   "language": "python",
   "name": "python3"
  },
  "language_info": {
   "codemirror_mode": {
    "name": "ipython",
    "version": 3
   },
   "file_extension": ".py",
   "mimetype": "text/x-python",
   "name": "python",
   "nbconvert_exporter": "python",
   "pygments_lexer": "ipython3",
   "version": "3.9.13"
  },
  "orig_nbformat": 4,
  "vscode": {
   "interpreter": {
    "hash": "026fd3476d856fbad7057801615df0e1c70702cda1b6573580ce8342cbe050d4"
   }
  }
 },
 "nbformat": 4,
 "nbformat_minor": 2
}
