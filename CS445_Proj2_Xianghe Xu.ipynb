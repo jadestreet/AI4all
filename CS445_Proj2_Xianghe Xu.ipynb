{
  "cells": [
    {
      "cell_type": "markdown",
      "metadata": {
        "colab_type": "text",
        "id": "H0WNVb19-1Vy"
      },
      "source": [
        "# Programming Project #2: Image Quilting"
      ]
    },
    {
      "cell_type": "markdown",
      "metadata": {
        "colab_type": "text",
        "id": "UIkgcR4l-1V1"
      },
      "source": [
        "## CS445: Computational Photography - Fall 2022_Xianghe Xu\n"
      ]
    },
    {
      "cell_type": "code",
      "execution_count": 1,
      "metadata": {
        "colab": {},
        "colab_type": "code",
        "id": "Trc-kktC-1V4"
      },
      "outputs": [],
      "source": [
        "import cv2\n",
        "import numpy as np\n",
        "%matplotlib notebook\n",
        "import matplotlib\n",
        "matplotlib.use('Qt5Agg')\n",
        "from matplotlib import pyplot as plt\n",
        "import os\n",
        "import random\n",
        "import time\n",
        "import utils"
      ]
    },
    {
      "cell_type": "code",
      "execution_count": 2,
      "metadata": {
        "colab": {},
        "colab_type": "code",
        "id": "962rNeOU-1WA"
      },
      "outputs": [],
      "source": [
        "from utils import cut # default cut function for seam finding section"
      ]
    },
    {
      "cell_type": "markdown",
      "metadata": {},
      "source": [
        "### read images"
      ]
    },
    {
      "cell_type": "code",
      "execution_count": 58,
      "metadata": {},
      "outputs": [],
      "source": [
        "sample_img_fn = 'samples/bricks_small.jpg' # feel free to change\n",
        "sample_img = cv2.cvtColor(cv2.imread(sample_img_fn), cv2.COLOR_BGR2RGB)\n",
        "plt.imshow(sample_img)\n",
        "plt.show(block=True)"
      ]
    },
    {
      "cell_type": "code",
      "execution_count": 4,
      "metadata": {},
      "outputs": [],
      "source": [
        "sample_img_fn1 = 'samples/s4.jpg'\n",
        "sample_img1 = cv2.cvtColor(cv2.imread(sample_img_fn1), cv2.COLOR_BGR2RGB)\n",
        "plt.imshow(sample_img1)\n",
        "plt.show(block=True)"
      ]
    },
    {
      "cell_type": "code",
      "execution_count": 5,
      "metadata": {
        "colab": {},
        "colab_type": "code",
        "id": "fOTP1KWS-1WU"
      },
      "outputs": [],
      "source": [
        "sample_img_fn2 = 'samples/s3.jpg'\n",
        "sample_img2 = cv2.cvtColor(cv2.imread(sample_img_fn2), cv2.COLOR_BGR2RGB)\n",
        "plt.imshow(sample_img2)\n",
        "plt.show(block=True)"
      ]
    },
    {
      "cell_type": "markdown",
      "metadata": {
        "colab_type": "text",
        "id": "8viLMXxu-1WH"
      },
      "source": [
        "### Part I: Randomly Sampled Texture (10 pts)"
      ]
    },
    {
      "cell_type": "code",
      "execution_count": 6,
      "metadata": {
        "colab": {},
        "colab_type": "code",
        "id": "L9GeLMBe-1WP"
      },
      "outputs": [],
      "source": [
        "def quilt_random(sample, out_size, patch_size):\n",
        "    \"\"\"\n",
        "    Randomly samples square patches of size patchsize from sample in order to create an output image of size outsize.\n",
        "\n",
        "    :param sample: numpy.ndarray   The image you read from sample directory\n",
        "    :param out_size: int            The width of the square output image\n",
        "    :param patch_size: int          The width of the square sample patch\n",
        "    :return: numpy.ndarray\n",
        "    \"\"\"\n",
        "    #slice patch\n",
        "    random.seed(10)\n",
        "    output = np.zeros((out_size, out_size, 3),np.uint8)\n",
        "    smaller_output_mul = int(np.floor(out_size/patch_size)) #only uint8 can imshow the picture\n",
        "    start_location = np.random.randint(0, sample.shape[0] - 1 - patch_size, size = (smaller_output_mul*smaller_output_mul, smaller_output_mul*smaller_output_mul))\n",
        "    \n",
        "    order = 0\n",
        "    for j in range(smaller_output_mul):\n",
        "        for k in range(smaller_output_mul):\n",
        "            x_slice = start_location[0, order]\n",
        "            y_slice = start_location[1, order]\n",
        "            patch_selected = sample[x_slice: x_slice + patch_size, y_slice: y_slice + patch_size]\n",
        "            output[j*patch_size:(j + 1)*patch_size, k*patch_size:(k + 1)*patch_size] = patch_selected\n",
        "            order += 1\n",
        "\n",
        "    return output\n",
        "\n"
      ]
    },
    {
      "cell_type": "code",
      "execution_count": 7,
      "metadata": {},
      "outputs": [],
      "source": [
        "out_size = 200  # change these parameters as needed\n",
        "patch_size = 15 \n",
        "\n",
        "res = quilt_random(sample_img, out_size, patch_size)\n",
        "if res is not None:\n",
        "    plt.imshow(res)\n",
        "    plt.show(block=True)\n"
      ]
    },
    {
      "cell_type": "markdown",
      "metadata": {
        "colab_type": "text",
        "id": "QbWYx0Zu-1WZ"
      },
      "source": [
        "### Part II: Overlapping Patches (30 pts)"
      ]
    },
    {
      "cell_type": "code",
      "execution_count": 59,
      "metadata": {},
      "outputs": [],
      "source": [
        "def quilt_simple(sample, out_size, patch_size, overlap, tol):\n",
        "    \"\"\"\n",
        "    Randomly samples square patches of size patchsize from sample in order to create an output image of size outsize.\n",
        "    Feel free to add function parameters\n",
        "    :param sample: numpy.ndarray\n",
        "    :param out_size: int\n",
        "    :param patch_size: int\n",
        "    :param overlap: int\n",
        "    :param tol: int\n",
        "    :return: numpy.ndarray\n",
        "    \"\"\"\n",
        "    def ssd_patch(sample, template, M):\n",
        "        b,g,r = cv2.split(sample/255.0)\n",
        "        T_b, T_g, T_r = cv2.split(template)\n",
        "        \n",
        "        ssd_b = ((M*T_b)**2).sum() - 2 * cv2.filter2D(b, ddepth=-1, kernel = M*T_b) + cv2.filter2D(b ** 2, ddepth=-1, kernel=M)\n",
        "        ssd_g = ((M*T_g)**2).sum() - 2 * cv2.filter2D(g, ddepth=-1, kernel = M*T_g) + cv2.filter2D(g ** 2, ddepth=-1, kernel=M)\n",
        "        ssd_r = ((M*T_r)**2).sum() - 2 * cv2.filter2D(r, ddepth=-1, kernel = M*T_r) + cv2.filter2D(r ** 2, ddepth=-1, kernel=M)\n",
        "        ssd = ssd_b + ssd_g + ssd_r\n",
        "        return ssd \n",
        "\n",
        "    def choose_sample(ssd, tol, patch_size):\n",
        "        value = np.zeros((len(ssd) - patch_size, len(ssd) - patch_size))\n",
        "        half = int(patch_size/2)\n",
        "        \n",
        "        for i in range(len(ssd) - patch_size):\n",
        "            for j in range(len(ssd) - patch_size):\n",
        "                if i <= half or j <= half:\n",
        "                    value[i,j] = 1000000\n",
        "                else:\n",
        "                    value[i,j] = ssd[i,j]\n",
        "        value[value == 0] = 1000000\n",
        "        value_new = value.flatten()\n",
        "        index = np.argsort(value_new)\n",
        "        \n",
        "        if tol == 1:\n",
        "            choosen = index[0]\n",
        "        else:\n",
        "            r = (int)(random()*tol)\n",
        "            choosen = index[r]\n",
        "        \n",
        "        row = int(choosen/(len(ssd) - patch_size))\n",
        "        col = int(choosen%(len(ssd) - patch_size))\n",
        "        return row, col\n",
        "    \n",
        "    random.seed(10)\n",
        "    \n",
        "    # masked templeate: how to track \n",
        "    half_patch = int(patch_size/2)\n",
        "    step = patch_size - overlap\n",
        "    output = np.zeros((out_size,out_size,3), np.float32)\n",
        "    # fill the upper-left part\n",
        "    start_location = np.random.randint(len(sample) - patch_size, size = 2)\n",
        "    x_start,y_start = start_location[0],start_location[1]\n",
        "    output[0:patch_size, 0:patch_size] = sample[x_start:(x_start + patch_size), y_start:(y_start + patch_size)]/255.0\n",
        "    \n",
        "    i_row = 0\n",
        "    j_col = step\n",
        "    while i_row < out_size-patch_size:\n",
        "        while j_col < out_size-patch_size:\n",
        "            mask = np.zeros((patch_size,patch_size),np.float32)\n",
        "            if i_row >= step:\n",
        "                mask[0:overlap,:] = 1.0\n",
        "            if j_col >= step:\n",
        "                mask[:,0:overlap] = 1.0\n",
        "            template = output[i_row:i_row+patch_size,j_col:j_col+patch_size]\n",
        "            #ssd making\n",
        "            ssd = ssd_patch(sample, template, mask)\n",
        "            ssd[0:1,:] = np.max(ssd)*2\n",
        "            ssd[:,0:1] = np.max(ssd)*2\n",
        "            ssd[ssd.shape[0] -1:,:] = np.max(ssd)*2\n",
        "            ssd[:,ssd.shape[0] -1:] = np.max(ssd)*2\n",
        "            #find patch\n",
        "            row, col = choose_sample(ssd,tol,patch_size)\n",
        "            #paste to output\n",
        "            output[i_row:i_row+patch_size,j_col:j_col+patch_size] = sample[row-half_patch:row+half_patch+1,col-half_patch:col+half_patch+1]/255.0\n",
        "            \n",
        "            j_col += step\n",
        "        j_col = 0\n",
        "        i_row += step \n",
        "    return output\n",
        "           "
      ]
    },
    {
      "cell_type": "code",
      "execution_count": 60,
      "metadata": {},
      "outputs": [],
      "source": [
        "out_size = 240  # change these parameters as needed\n",
        "patch_size = 35\n",
        "overlap = 15\n",
        "tol = 1\n",
        "res = quilt_simple(sample_img, out_size, patch_size, overlap, tol) #feel free to change parameters to get best results\n",
        "if res is not None:\n",
        "    plt.figure(figsize=(10,10))\n",
        "    plt.imshow(res)\n",
        "    plt.show(block=True)"
      ]
    },
    {
      "cell_type": "markdown",
      "metadata": {
        "colab_type": "text",
        "id": "fpXmkNvw-1Wm"
      },
      "source": [
        "### Part III: Seam Finding (20 pts)\n"
      ]
    },
    {
      "cell_type": "code",
      "execution_count": null,
      "metadata": {
        "colab": {},
        "colab_type": "code",
        "id": "yAepuWTT-1Wo"
      },
      "outputs": [],
      "source": [
        "# optional or use cut(err_patch) directly\n",
        "def customized_cut(bndcost):\n",
        "    pass"
      ]
    },
    {
      "cell_type": "code",
      "execution_count": 63,
      "metadata": {},
      "outputs": [],
      "source": [
        "def quilt_cut(sample, out_size, patch_size, overlap, tol):\n",
        "    \"\"\"\n",
        "    Samples square patches of size patchsize from sample using seam finding in order to create an output image of size outsize.\n",
        "    Feel free to add function parameters\n",
        "    :param sample: numpy.ndarray\n",
        "    :param out_size: int\n",
        "    :param patch_size: int\n",
        "    :param overlap: int\n",
        "    :param tol: int\n",
        "    :return: numpy.ndarray\n",
        "    \"\"\"\n",
        "    \n",
        "    def ssd_patch(sample, template, M):\n",
        "        b,g,r = cv2.split(sample/255.0)\n",
        "        T_b, T_g, T_r = cv2.split(template)\n",
        "        \n",
        "        ssd_b = ((M*T_b)**2).sum() - 2 * cv2.filter2D(b, ddepth=-1, kernel = M*T_b) + cv2.filter2D(b ** 2, ddepth=-1, kernel=M)\n",
        "        ssd_g = ((M*T_g)**2).sum() - 2 * cv2.filter2D(g, ddepth=-1, kernel = M*T_g) + cv2.filter2D(g ** 2, ddepth=-1, kernel=M)\n",
        "        ssd_r = ((M*T_r)**2).sum() - 2 * cv2.filter2D(r, ddepth=-1, kernel = M*T_r) + cv2.filter2D(r ** 2, ddepth=-1, kernel=M)\n",
        "        ssd = ssd_b + ssd_g + ssd_r\n",
        "        return ssd \n",
        "\n",
        "    def choose_sample(ssd, tol, patch_size):\n",
        "        value = np.zeros((len(ssd) - patch_size, len(ssd) - patch_size))\n",
        "        half = int(patch_size/2)\n",
        "        \n",
        "        for i in range(len(ssd) - patch_size):\n",
        "            for j in range(len(ssd) - patch_size):\n",
        "                if i <= half or j <= half:\n",
        "                    value[i,j] = 1000000\n",
        "                else:\n",
        "                    value[i,j] = ssd[i,j]\n",
        "        value[value == 0] = 1000000\n",
        "        value_new = value.flatten()\n",
        "        index = np.argsort(value_new)\n",
        "        \n",
        "        if tol == 1:\n",
        "            choosen = index[0]\n",
        "        else:\n",
        "            r = (int)(random()*tol)\n",
        "            choosen = index[r]\n",
        "        \n",
        "        row = int(choosen/(len(ssd) - patch_size))\n",
        "        col = int(choosen%(len(ssd) - patch_size))\n",
        "        return row, col\n",
        "    \n",
        "    # masked templeate: how to track \n",
        "    half_patch = int(patch_size/2)\n",
        "    step = patch_size - overlap\n",
        "    output = np.zeros((out_size,out_size,3), np.float32)\n",
        "    # fill the upper-left part\n",
        "    start_location = np.random.randint(len(sample) - patch_size, size = 2)\n",
        "    x_start,y_start = start_location[0],start_location[1]\n",
        "    output[0:patch_size, 0:patch_size] = sample[x_start:(x_start + patch_size), y_start:(y_start + patch_size)]/255.0\n",
        "    \n",
        "\n",
        "    i_row = 0\n",
        "    j_col = step\n",
        "    while i_row < out_size-patch_size:\n",
        "        while j_col < out_size-patch_size:\n",
        "            mask = np.zeros((patch_size,patch_size),np.float32)\n",
        "            hori_mask = False\n",
        "            veri_mask = False\n",
        "            if i_row >= step:\n",
        "                hori_mask = True\n",
        "                mask[0:overlap,:] = 1.0\n",
        "            if j_col >= step:\n",
        "                veri_mask = True\n",
        "                mask[:,0:overlap] = 1.0\n",
        "            template = output[i_row:i_row+patch_size,j_col:j_col+patch_size]\n",
        "            #ssd making\n",
        "            ssd = ssd_patch(sample, template, mask)\n",
        "            ssd[0:1,:] = np.max(ssd)*2\n",
        "            ssd[:,0:1] = np.max(ssd)*2\n",
        "            ssd[ssd.shape[0] -1:,:] = np.max(ssd)*2\n",
        "            ssd[:,ssd.shape[0] -1:] = np.max(ssd)*2\n",
        "            #find patch\n",
        "            row, col = choose_sample(ssd,tol,patch_size)\n",
        "            #paste to output\n",
        "            patch = sample[row-half_patch:row+half_patch+1,col-half_patch:col+half_patch+1]/255.0\n",
        "            \n",
        "            #start seam\n",
        "            tb, tg, tr = cv2.split(template)\n",
        "            pb, pg, pr = cv2.split(patch)\n",
        "            cost = ((tb-pb) ** 2) + ((tg-pg) ** 2) + ((tr-pr) ** 2)\n",
        "            patch_mask = np.zeros((patch_size,patch_size,3), np.uint8)\n",
        "            if hori_mask and veri_mask:\n",
        "                mask1 = np.zeros((patch_size,patch_size,3), np.uint8)\n",
        "                mask1[:,:,0] = cut(cost.T).T\n",
        "                mask1[:,:,1] = mask1[:,:,0]\n",
        "                mask1[:,:,2] = mask1[:,:,0]\n",
        "                mask2 = np.zeros((patch_size,patch_size,3), np.uint8)\n",
        "                mask2[:,:,0] = cut(cost)\n",
        "                mask2[:,:,1] = mask2[:,:,0]\n",
        "                mask2[:,:,2] = mask2[:,:,0]\n",
        "                patch_mask = np.bitwise_and(mask1,mask2)\n",
        "            elif hori_mask:\n",
        "                patch_mask[:,:,0] = cut(cost)\n",
        "                patch_mask[:,:,1] = patch_mask[:,:,0]\n",
        "                patch_mask[:,:,2] = patch_mask[:,:,0]\n",
        "            elif veri_mask:\n",
        "                patch_mask[:,:,0] = cut(cost.T).T\n",
        "                patch_mask[:,:,1] = patch_mask[:,:,0]\n",
        "                patch_mask[:,:,2] = patch_mask[:,:,0]\n",
        "            inv_patch_mask = np.where(patch_mask == 0, 1, 0)\n",
        "            output[i_row:i_row+patch_size,j_col:j_col+patch_size] = patch_mask * patch + template * inv_patch_mask\n",
        "            \n",
        "            j_col += step\n",
        "        j_col = 0\n",
        "        i_row += step \n",
        "    return output"
      ]
    },
    {
      "cell_type": "markdown",
      "metadata": {},
      "source": [
        "#### show how to draw the second patch"
      ]
    },
    {
      "cell_type": "code",
      "execution_count": 51,
      "metadata": {},
      "outputs": [],
      "source": [
        "#the version to draw pictures\n",
        "def quilt_cut(sample, out_size, patch_size, overlap, tol):\n",
        "    \"\"\"\n",
        "    Samples square patches of size patchsize from sample using seam finding in order to create an output image of size outsize.\n",
        "    Feel free to add function parameters\n",
        "    :param sample: numpy.ndarray\n",
        "    :param out_size: int\n",
        "    :param patch_size: int\n",
        "    :param overlap: int\n",
        "    :param tol: int\n",
        "    :return: numpy.ndarray\n",
        "    \"\"\"\n",
        "    \n",
        "    def ssd_patch(sample, template, M):\n",
        "        b,g,r = cv2.split(sample/255.0)\n",
        "        T_b, T_g, T_r = cv2.split(template)\n",
        "        \n",
        "        ssd_b = ((M*T_b)**2).sum() - 2 * cv2.filter2D(b, ddepth=-1, kernel = M*T_b) + cv2.filter2D(b ** 2, ddepth=-1, kernel=M)\n",
        "        ssd_g = ((M*T_g)**2).sum() - 2 * cv2.filter2D(g, ddepth=-1, kernel = M*T_g) + cv2.filter2D(g ** 2, ddepth=-1, kernel=M)\n",
        "        ssd_r = ((M*T_r)**2).sum() - 2 * cv2.filter2D(r, ddepth=-1, kernel = M*T_r) + cv2.filter2D(r ** 2, ddepth=-1, kernel=M)\n",
        "        ssd = ssd_b + ssd_g + ssd_r\n",
        "        return ssd \n",
        "\n",
        "    def choose_sample(ssd,minc,tol,patch_size):\n",
        "        value = np.zeros((len(ssd) - patch_size, len(ssd) - patch_size))\n",
        "        half = int(patch_size/2)\n",
        "        \n",
        "        for i in range(len(ssd) - patch_size):\n",
        "            for j in range(len(ssd) - patch_size):\n",
        "                if i <= half or j <= half:\n",
        "                    value[i,j] = 1000000\n",
        "                else:\n",
        "                    #value[i,j] = np.sum(ssd[i - half:i + half, j - half: j+half])\n",
        "                    value[i,j] = ssd[i,j]\n",
        "        value[value == 0] = 1000000\n",
        "        value_new = value.flatten()\n",
        "        index = np.argsort(value_new)\n",
        "        choosen = index[0]\n",
        "        \n",
        "        row = int(choosen/(len(ssd) - patch_size))\n",
        "        col = int(choosen%(len(ssd) - patch_size))\n",
        "        \n",
        "        return row, col\n",
        "    out = np.zeros((out_size,out_size,3), np.float32)\n",
        "    step = patch_size-overlap\n",
        "    half = int(patch_size/2)\n",
        "    small_cost_value = 0.0001\n",
        "    \n",
        "    random_ints = np.random.randint(len(sample)-patch_size, size=2)\n",
        "    xr,yr = random_ints[0],random_ints[1]\n",
        "    out[0:patch_size,0:patch_size] = sample[xr:xr+patch_size,yr:yr+patch_size]/256.0\n",
        "    \n",
        "    patch1 = sample[xr:xr+patch_size,yr:yr+patch_size]\n",
        "    patch1 = cv2.cvtColor(patch1, cv2.COLOR_BGR2RGB)\n",
        "    plt.figure()\n",
        "    plt.title(\"p1\")\n",
        "    plt.imshow(patch1)\n",
        "    plt.show(block=True)\n",
        "   \n",
        "    \n",
        "    i = 0\n",
        "    j = step\n",
        "\n",
        "    mask = np.zeros((patch_size,patch_size),np.float32)\n",
        "    h = False\n",
        "    v = False\n",
        "    if i >= step:\n",
        "        h = True\n",
        "        mask[0:overlap,:] = 1.0\n",
        "    if j >= step:\n",
        "        v = True\n",
        "        mask[:,0:overlap] = 1.0\n",
        "    template = out[i:i+patch_size,j:j+patch_size]\n",
        "    ssd = ssd_patch(sample,template,mask)\n",
        "    minc = np.min(ssd[np.nonzero(ssd)])\n",
        "    minc = max(minc,small_cost_value)\n",
        "    row,col = choose_sample(ssd,minc,tol,patch_size)\n",
        "    patch = sample[row-half:row+half+1,col-half:col+half+1]/256.0\n",
        "    \n",
        "    patch2 = sample[row-half:row+half+1,col-half:col+half+1]\n",
        "    patch2 = cv2.cvtColor(patch2, cv2.COLOR_BGR2RGB)\n",
        "    plt.figure()\n",
        "    plt.title(\"p2\")\n",
        "    plt.imshow(patch2)\n",
        "    plt.show(block=True)\n",
        "\n",
        "    \n",
        "    tb, tg, tr = cv2.split(template)\n",
        "    pb, pg, pr = cv2.split(patch)\n",
        "    cost = ((tb-pb) ** 2) + ((tg-pg) ** 2) + ((tr-pr) ** 2)\n",
        "    patch_mask = np.zeros((patch_size,patch_size,3), np.uint8)\n",
        "    if h and v:\n",
        "        mask1 = np.zeros((patch_size,patch_size,3), np.uint8)\n",
        "        mask1[:,:,0] = cut(cost.T).T\n",
        "        mask1[:,:,1] = mask1[:,:,0]\n",
        "        mask1[:,:,2] = mask1[:,:,0]\n",
        "        mask2 = np.zeros((patch_size,patch_size,3), np.uint8)\n",
        "        mask2[:,:,0] = cut(cost)\n",
        "        mask2[:,:,1] = mask2[:,:,0]\n",
        "        mask2[:,:,2] = mask2[:,:,0]\n",
        "        patch_mask = np.bitwise_and(mask1,mask2)\n",
        "    elif h:\n",
        "        patch_mask[:,:,0] = cut(cost)\n",
        "        patch_mask[:,:,1] = patch_mask[:,:,0]\n",
        "        patch_mask[:,:,2] = patch_mask[:,:,0]\n",
        "    elif v:\n",
        "        patch_mask[:,:,0] = cut(cost.T).T\n",
        "        patch_mask[:,:,1] = patch_mask[:,:,0]\n",
        "        patch_mask[:,:,2] = patch_mask[:,:,0]\n",
        "    inv_patch_mask = np.where(patch_mask == 0, 1, 0)\n",
        "    \n",
        "    plt.figure()\n",
        "    plt.imshow(patch_mask*256.0)\n",
        "    plt.show(block=True)\n",
        "    \n",
        "    out[i:i+patch_size,j:j+patch_size] = patch_mask*patch + template*inv_patch_mask\n",
        "    \n",
        "    plot_overlap = np.zeros((patch_size,2*patch_size-overlap,3), np.float32)\n",
        "    plot_overlap[:,:,:] = out[i:i+patch_size,j-step:j+patch_size]\n",
        "    \n",
        "    plot_mask = np.zeros((patch_size,patch_size,3), np.uint8)\n",
        "    for ii in range(patch_size):\n",
        "        for jj in range(1,patch_size):\n",
        "            if patch_mask[ii,jj,0] == patch_mask[ii,jj-1,0]:\n",
        "                pass\n",
        "            else:\n",
        "                plot_mask[ii,jj,0] = 0\n",
        "                plot_mask[ii,jj,1] = 0\n",
        "                plot_mask[ii,jj,2] = 1\n",
        "                \n",
        "    plt.figure()\n",
        "    plot_overlap_out = cv2.cvtColor(plot_overlap, cv2.COLOR_BGR2RGB)\n",
        "    plt.imshow(plot_overlap_out)\n",
        "    plt.show(block=True)\n",
        "    \n",
        "    plot_overlap[0:patch_size,0:patch_size,:] += plot_mask\n",
        "    plot_overlap = cv2.cvtColor(plot_overlap, cv2.COLOR_BGR2RGB)\n",
        "    plt.figure()\n",
        "    plt.imshow(plot_overlap)\n",
        "    plt.show(block=True)\n",
        "    \n",
        "    plt.figure()\n",
        "    plt.imshow(cost[0:patch_size,0:overlap])\n",
        "    \n",
        "    for ii in range(patch_size):\n",
        "        for jj in range(overlap):\n",
        "            if plot_mask[ii,jj,2]:\n",
        "                cost[ii,jj] = 1.0\n",
        "    plt.figure()\n",
        "    plt.imshow(cost[0:patch_size,0:overlap])\n",
        "    plt.show(block=True)\n",
        "    \n",
        "    return out"
      ]
    },
    {
      "cell_type": "code",
      "execution_count": 64,
      "metadata": {
        "colab": {},
        "colab_type": "code",
        "id": "kbnDy_F_-1Wy"
      },
      "outputs": [],
      "source": [
        "out_size = 240  # change these parameters as needed\n",
        "patch_size = 35\n",
        "overlap = 15\n",
        "tol = 1\n",
        "res = quilt_cut(sample_img, out_size, patch_size, overlap, tol)\n",
        "if res is not None:\n",
        "    plt.figure(figsize=(15,15))\n",
        "    plt.imshow(res)\n",
        "    plt.show(block=True)"
      ]
    },
    {
      "cell_type": "markdown",
      "metadata": {
        "colab_type": "text",
        "id": "beM0Ryht-1W7"
      },
      "source": [
        "### part IV: Texture Transfer (30 pts)"
      ]
    },
    {
      "cell_type": "code",
      "execution_count": 8,
      "metadata": {
        "colab": {},
        "colab_type": "code",
        "id": "_rY1JdF--1W8"
      },
      "outputs": [],
      "source": [
        "def texture_transfer(sample, patch_size, overlap, tol, target, alpha):\n",
        "    \"\"\"\n",
        "    Feel free to add function parameters\n",
        "    \"\"\"\n",
        "    def ssd_patch(sample, template, M):\n",
        "        b,g,r = cv2.split(sample/255.0)\n",
        "        T_b, T_g, T_r = cv2.split(template)\n",
        "        \n",
        "        ssd_b = ((M*T_b)**2).sum() - 2 * cv2.filter2D(b, ddepth=-1, kernel = M*T_b) + cv2.filter2D(b ** 2, ddepth=-1, kernel=M)\n",
        "        ssd_g = ((M*T_g)**2).sum() - 2 * cv2.filter2D(g, ddepth=-1, kernel = M*T_g) + cv2.filter2D(g ** 2, ddepth=-1, kernel=M)\n",
        "        ssd_r = ((M*T_r)**2).sum() - 2 * cv2.filter2D(r, ddepth=-1, kernel = M*T_r) + cv2.filter2D(r ** 2, ddepth=-1, kernel=M)\n",
        "        ssd = ssd_b + ssd_g + ssd_r\n",
        "        return ssd \n",
        "\n",
        "    def choose_sample(ssd, tol, patch_size):\n",
        "        value = np.zeros((ssd.shape[0] - patch_size, ssd.shape[1] - patch_size))\n",
        "        half = int(patch_size/2)\n",
        "        \n",
        "        for i in range(ssd.shape[0] - patch_size):\n",
        "            for j in range(ssd.shape[1] - patch_size):\n",
        "                if i <= half or j <= half:\n",
        "                    value[i,j] = 1000000\n",
        "                else:\n",
        "                    value[i,j] = ssd[i,j]\n",
        "        value[value == 0] = 1000000\n",
        "        value_new = value.flatten()\n",
        "        index = np.argsort(value_new)\n",
        "        \n",
        "        if tol == 1:\n",
        "            choosen = index[0]\n",
        "        else:\n",
        "            r = (int)(random()*tol)\n",
        "            choosen = index[r]\n",
        "        \n",
        "        row = int(choosen/(ssd.shape[1] - patch_size))\n",
        "        col = int(choosen%(ssd.shape[1] - patch_size))\n",
        "        return row, col\n",
        "    \n",
        "    width = len(target[0,:,:])\n",
        "    height = len(target[:,0,:])\n",
        "    \n",
        "    # masked templeate: how to track \n",
        "    half_patch = int(patch_size/2)\n",
        "    step = patch_size - overlap\n",
        "    output = np.zeros((height,width,3), np.float32)\n",
        "    # fill the upper-left part\n",
        "    start_location = np.random.randint(len(sample) - patch_size, size = 2)\n",
        "    x_start,y_start = start_location[0],start_location[1]\n",
        "    output[0:patch_size, 0:patch_size] = sample[x_start:(x_start + patch_size), y_start:(y_start + patch_size)]/255.0\n",
        "    \n",
        "    \n",
        "    i_row = 0\n",
        "    j_col = step\n",
        "    while i_row < height-patch_size:\n",
        "        while j_col < width-patch_size:\n",
        "            mask = np.zeros((patch_size,patch_size),np.float32)\n",
        "            hori_mask = False\n",
        "            veri_mask = False\n",
        "            if i_row >= step:\n",
        "                hori_mask = True\n",
        "                mask[0:overlap,:] = 1.0\n",
        "            if j_col >= step:\n",
        "                veri_mask = True\n",
        "                mask[:,0:overlap] = 1.0\n",
        "                \n",
        "            #slice patches\n",
        "            template = output[i_row:i_row+patch_size,j_col:j_col+patch_size]\n",
        "            transfer = target[i_row:i_row+patch_size,j_col:j_col+patch_size]/255.0\n",
        "            #ssd making\n",
        "            ssd_p = ssd_patch(sample,template,mask)\n",
        "            ssd_t = ssd_patch(sample,transfer,mask)\n",
        "            ssd = alpha*ssd_p+(1-alpha)*ssd_t\n",
        "            ssd[0:1,:] = np.max(ssd)*2\n",
        "            ssd[:,0:1] = np.max(ssd)*2\n",
        "            ssd[ssd.shape[0] -1:,:] = np.max(ssd)*2\n",
        "            ssd[:,ssd.shape[0] -1:] = np.max(ssd)*2\n",
        "            #find patch\n",
        "            row,col = choose_sample(ssd, tol,patch_size)\n",
        "            #paste to output\n",
        "            patch = sample[row-half_patch:row+half_patch+1,col-half_patch:col+half_patch+1]/255.0\n",
        "          \n",
        "            \n",
        "            tb, tg, tr = cv2.split(template)\n",
        "            pb, pg, pr = cv2.split(patch)\n",
        "            cost = ((tb-pb) ** 2) + ((tg-pg) ** 2) + ((tr-pr) ** 2)\n",
        "            patch_mask = np.zeros((patch_size,patch_size,3), np.uint8)\n",
        "            if hori_mask and veri_mask:\n",
        "                mask1 = np.zeros((patch_size,patch_size,3), np.uint8)\n",
        "                mask1[:,:,0] = cut(cost.T).T\n",
        "                mask1[:,:,1] = mask1[:,:,0]\n",
        "                mask1[:,:,2] = mask1[:,:,0]\n",
        "                mask2 = np.zeros((patch_size,patch_size,3), np.uint8)\n",
        "                mask2[:,:,0] = cut(cost)\n",
        "                mask2[:,:,1] = mask2[:,:,0]\n",
        "                mask2[:,:,2] = mask2[:,:,0]\n",
        "                patch_mask = np.bitwise_and(mask1,mask2)\n",
        "            elif hori_mask:\n",
        "                patch_mask[:,:,0] = cut(cost)\n",
        "                patch_mask[:,:,1] = patch_mask[:,:,0]\n",
        "                patch_mask[:,:,2] = patch_mask[:,:,0]\n",
        "            elif veri_mask:\n",
        "                patch_mask[:,:,0] = cut(cost.T).T\n",
        "                patch_mask[:,:,1] = patch_mask[:,:,0]\n",
        "                patch_mask[:,:,2] = patch_mask[:,:,0]\n",
        "                \n",
        "            patch_mask_inverse = np.where(patch_mask == 0, 1, 0)\n",
        "            output[i_row:i_row+patch_size,j_col:j_col+patch_size] = patch_mask*patch + template*patch_mask_inverse\n",
        "            j_col += step\n",
        "        j_col = 0\n",
        "        i_row += step \n",
        "    return output"
      ]
    },
    {
      "cell_type": "code",
      "execution_count": 9,
      "metadata": {},
      "outputs": [],
      "source": [
        "sample_img_dir = 'samples/toast.jpg' # feel free to change\n",
        "sample_img = None\n",
        "if os.path.exists(sample_img_dir):\n",
        "    sample_img = cv2.imread(sample_img_dir)\n",
        "    sample_out = cv2.cvtColor(sample_img, cv2.COLOR_BGR2RGB)\n",
        "    plt.figure()\n",
        "    plt.imshow(sample_out)\n",
        "    plt.show(block=True)\n",
        "\n",
        "target_img_dir = 'samples/feynman.tiff' # feel free to change\n",
        "target_img = None\n",
        "if os.path.exists(target_img_dir):\n",
        "    target_img = cv2.imread(target_img_dir)\n",
        "    target_out = cv2.cvtColor(target_img, cv2.COLOR_BGR2RGB)\n",
        "    plt.figure()\n",
        "    plt.imshow(target_out)\n",
        "    plt.show(block=True)"
      ]
    },
    {
      "cell_type": "code",
      "execution_count": 10,
      "metadata": {
        "colab": {},
        "colab_type": "code",
        "id": "QXFmD66zqbEn"
      },
      "outputs": [],
      "source": [
        "# load/process appropriate input texture and guidance images\n",
        "\n",
        "patch_size = 35\n",
        "overlap = 15\n",
        "tol = 1\n",
        "alpha = 0.1\n",
        "res = texture_transfer(sample_out, patch_size, overlap, tol, target_out, alpha)\n",
        "\n",
        "plt.figure(figsize=(10,10))\n",
        "plt.imshow(res)\n",
        "plt.show()\n",
        "plt.show(block=True)"
      ]
    },
    {
      "cell_type": "markdown",
      "metadata": {
        "colab_type": "text",
        "id": "1YF4z5Pn-1XC"
      },
      "source": [
        "### Bells & Whistles"
      ]
    },
    {
      "cell_type": "markdown",
      "metadata": {
        "colab_type": "text",
        "id": "xkyZmE5x-1XC"
      },
      "source": [
        "(10 pts) Create and use your own version of cut.m. To get these points, you should create your own implementation without basing it directly on the provided function (you're on the honor code for this one). \n",
        "\n",
        "You can simply copy your customized_cut(bndcost) into the box below so that it is easier for us to grade"
      ]
    },
    {
      "cell_type": "code",
      "execution_count": null,
      "metadata": {
        "colab": {},
        "colab_type": "code",
        "id": "J_uu8QGV-1XD"
      },
      "outputs": [],
      "source": []
    },
    {
      "cell_type": "markdown",
      "metadata": {
        "colab_type": "text",
        "id": "yKqN35Je-1XI"
      },
      "source": [
        "(15 pts) Implement the iterative texture transfer method described in the paper. Compare to the non-iterative method for two examples."
      ]
    },
    {
      "cell_type": "code",
      "execution_count": null,
      "metadata": {
        "colab": {},
        "colab_type": "code",
        "id": "_2E3ODng-1XJ"
      },
      "outputs": [],
      "source": []
    },
    {
      "cell_type": "markdown",
      "metadata": {
        "colab_type": "text",
        "id": "mJX7W1KY-1XN"
      },
      "source": [
        "(up to 20 pts) Use a combination of texture transfer and blending to create a face-in-toast image like the one on top. To get full points, you must use some type of blending, such as feathering or Laplacian pyramid blending."
      ]
    },
    {
      "cell_type": "code",
      "execution_count": null,
      "metadata": {
        "colab": {},
        "colab_type": "code",
        "id": "VDlsZWl_-1XO"
      },
      "outputs": [],
      "source": []
    },
    {
      "cell_type": "markdown",
      "metadata": {
        "colab_type": "text",
        "id": "KnDruSHC-1XS"
      },
      "source": [
        "(up to 40 pts) Extend your method to fill holes of arbitrary shape for image completion. In this case, patches are drawn from other parts of the target image. For the full 40 pts, you should implement a smart priority function (e.g., similar to Criminisi et al.)."
      ]
    },
    {
      "cell_type": "code",
      "execution_count": null,
      "metadata": {
        "colab": {},
        "colab_type": "code",
        "id": "-8kJ9IOW-1XT"
      },
      "outputs": [],
      "source": []
    },
    {
      "cell_type": "code",
      "execution_count": null,
      "metadata": {
        "colab": {},
        "colab_type": "code",
        "id": "Nx3Ghbcg-1XX"
      },
      "outputs": [],
      "source": []
    },
    {
      "cell_type": "code",
      "execution_count": null,
      "metadata": {
        "colab": {},
        "colab_type": "code",
        "id": "j0cXmR98-1Xc"
      },
      "outputs": [],
      "source": []
    },
    {
      "cell_type": "code",
      "execution_count": null,
      "metadata": {
        "colab": {},
        "colab_type": "code",
        "id": "QNktu4lA-1Xg"
      },
      "outputs": [],
      "source": []
    }
  ],
  "metadata": {
    "colab": {
      "collapsed_sections": [],
      "name": "CS445_Proj2_Starter.ipynb",
      "provenance": [],
      "toc_visible": true
    },
    "kernelspec": {
      "display_name": "Python 3.9.13 ('base')",
      "language": "python",
      "name": "python3"
    },
    "language_info": {
      "codemirror_mode": {
        "name": "ipython",
        "version": 3
      },
      "file_extension": ".py",
      "mimetype": "text/x-python",
      "name": "python",
      "nbconvert_exporter": "python",
      "pygments_lexer": "ipython3",
      "version": "3.9.13"
    },
    "vscode": {
      "interpreter": {
        "hash": "026fd3476d856fbad7057801615df0e1c70702cda1b6573580ce8342cbe050d4"
      }
    }
  },
  "nbformat": 4,
  "nbformat_minor": 0
}
